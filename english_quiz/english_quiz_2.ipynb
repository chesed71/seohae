{
 "cells": [
  {
   "cell_type": "code",
   "execution_count": 2,
   "metadata": {},
   "outputs": [],
   "source": [
    "import pandas as pd\n",
    "import random "
   ]
  },
  {
   "cell_type": "code",
   "execution_count": 7,
   "metadata": {},
   "outputs": [],
   "source": [
    "def readExcel(filename):\n",
    "    df = pd.read_excel(filename, sheet_name='Sheet1')\n",
    "    return df['En'], df['Ko']"
   ]
  },
  {
   "cell_type": "code",
   "execution_count": 20,
   "metadata": {},
   "outputs": [],
   "source": [
    "def shuffleQuestions(max_size):    \n",
    "    pos_correct = random.choice(range(4))\n",
    "    \n",
    "    \n",
    "    numbers = list(range(max_size))\n",
    "    random.shuffle(numbers)\n",
    "    random_num = numbers.pop()\n",
    "    \n",
    "    pos_wrongs = set()\n",
    "    while len(pos_wrongs) < 3:\n",
    "        pos_wrong = numbers.pop()\n",
    "        if pos_wrong != pos_correct:\n",
    "            pos_wrongs.add(pos_wrong)\n",
    "    \n",
    "    print('correct : {}, wrong : {}'.format(pos_correct, pos_wrongs))\n",
    "    return pos_correct, pos_wrongs\n"
   ]
  },
  {
   "cell_type": "code",
   "execution_count": null,
   "metadata": {},
   "outputs": [
    {
     "name": "stdout",
     "output_type": "stream",
     "text": [
      "correct : 3, wrong : {9, 6, 7}\n",
      "3 {9, 6, 7}\n",
      "inform의 뜻으로 맞는 것은 무엇일까요?\n",
      "1. 개발하다, 발달하다\n",
      "2. 향상시키다, 향상하다\n",
      "3. 개인, 개인의\n",
      "4. 알리다, 통지하다\n",
      "2\n",
      "틀렸습니다. 다시 시도해보세요\n",
      "\n",
      "\n",
      "inform의 뜻으로 맞는 것은 무엇일까요?\n",
      "1. 개발하다, 발달하다\n",
      "2. 향상시키다, 향상하다\n",
      "3. 개인, 개인의\n",
      "4. 알리다, 통지하다\n",
      "4\n",
      "정답입니다.\n",
      "correct : 2, wrong : {8, 18, 29}\n",
      "2 {8, 18, 29}\n",
      "advise의 뜻으로 맞는 것은 무엇일까요?\n",
      "1. 필요로 하다, 요구하다\n",
      "2. 영향, 영향을 끼치다\n",
      "3. 충고하다\n",
      "4. 촉구하다, 격려하다\n"
     ]
    }
   ],
   "source": [
    "en_word_list, ko_word_list = readExcel('./data/word_list.xlsx')\n",
    "\n",
    "for i in range(len(en_word_list)):\n",
    "    en = en_word_list[i]\n",
    "    answer = ko_word_list[i]\n",
    "    \n",
    "    pos_correct, pos_wrongs = shuffleQuestions(len(en_word_list))\n",
    "    \n",
    "    print(pos_correct, pos_wrongs)\n",
    "    \n",
    "    while(True):\n",
    "        print(\"{}의 뜻으로 맞는 것은 무엇일까요?\".format(en))\n",
    "        temp_wrongs = set(pos_wrongs)\n",
    "        for i in range(4):\n",
    "            if i == pos_correct:\n",
    "                print(\"{}. {}\".format(i + 1, answer))\n",
    "            else:\n",
    "                print(\"{}. {}\".format(i + 1, ko_word_list[temp_wrongs.pop()]))\n",
    "\n",
    "        user_answer = input()\n",
    "        if user_answer == str(pos_correct + 1):\n",
    "            print(\"정답입니다.\")\n",
    "            break\n",
    "        else:\n",
    "            print(\"틀렸습니다. 다시 시도해보세요\\n\\n\")"
   ]
  },
  {
   "cell_type": "code",
   "execution_count": null,
   "metadata": {},
   "outputs": [],
   "source": []
  }
 ],
 "metadata": {
  "kernelspec": {
   "display_name": "Python 3",
   "language": "python",
   "name": "python3"
  },
  "language_info": {
   "codemirror_mode": {
    "name": "ipython",
    "version": 3
   },
   "file_extension": ".py",
   "mimetype": "text/x-python",
   "name": "python",
   "nbconvert_exporter": "python",
   "pygments_lexer": "ipython3",
   "version": "3.6.4"
  }
 },
 "nbformat": 4,
 "nbformat_minor": 2
}
