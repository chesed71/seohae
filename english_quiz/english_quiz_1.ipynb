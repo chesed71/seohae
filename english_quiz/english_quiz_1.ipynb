{
 "cells": [
  {
   "cell_type": "code",
   "execution_count": 2,
   "metadata": {},
   "outputs": [],
   "source": [
    "import pandas as pd"
   ]
  },
  {
   "cell_type": "code",
   "execution_count": 3,
   "metadata": {},
   "outputs": [],
   "source": [
    "filename = './data/word_list.xlsx'\n",
    "df = pd.read_excel(filename, sheet_name='Sheet1')\n",
    "en_word_list = df['En']\n",
    "ko_word_list = df['Ko']"
   ]
  },
  {
   "cell_type": "code",
   "execution_count": 4,
   "metadata": {},
   "outputs": [
    {
     "name": "stdout",
     "output_type": "stream",
     "text": [
      "40\n",
      "0          알리다, 통지하다\n",
      "1               충고하다\n",
      "2     봉사, 공공 업무, 서비스\n",
      "3         공급하다, 준비하다\n",
      "4                 관계\n",
      "5      (예의 바르게) 행동하다\n",
      "6        향상시키다, 향상하다\n",
      "7            개인, 개인의\n",
      "8       필요로 하다, 요구하다\n",
      "9         개발하다, 발달하다\n",
      "10               사회의\n",
      "11     총계, 양, 총계가~되다\n",
      "12              고용하다\n",
      "13          무서운, 끔찍한\n",
      "14            태도, 입장\n",
      "15    연구, 연구하다, 조사하다\n",
      "16            청중, 관객\n",
      "17         자원봉사, 지원자\n",
      "18       영향, 영향을 끼치다\n",
      "19         국제의, 국제적인\n",
      "20                기회\n",
      "21                능력\n",
      "22            비용, 지출\n",
      "23     포함하다, 말려들게 하다\n",
      "24    강조, 강조하다, 스트레스\n",
      "25        그러므로, 그 결과\n",
      "26           평균, 평균의\n",
      "27     (탈 것을) 타다, 태움\n",
      "28     지방의, 지역의, 장소의\n",
      "29        촉구하다, 격려하다\n",
      "30        결심하다, 결정하다\n",
      "31    편안, 위로, 편안하게하다\n",
      "32              소비하다\n",
      "33      물체, 목표, 반대하다\n",
      "34     ~에게 깊은 인상을 주다\n",
      "35      이용 가능한, 쓸모있는\n",
      "36        함유하다, 포함하다\n",
      "37            수입, 수익\n",
      "38        인지하다, 인정하다\n",
      "39       재료, 물질, 물질의\n",
      "Name: Ko, dtype: object\n"
     ]
    }
   ],
   "source": [
    "print(len(ko_word_list))\n",
    "print(ko_word_list)\n"
   ]
  },
  {
   "cell_type": "code",
   "execution_count": 5,
   "metadata": {},
   "outputs": [],
   "source": [
    "import random "
   ]
  },
  {
   "cell_type": "code",
   "execution_count": 6,
   "metadata": {},
   "outputs": [
    {
     "name": "stdout",
     "output_type": "stream",
     "text": [
      "0\n"
     ]
    }
   ],
   "source": [
    "en = en_word_list[0]\n",
    "answer = ko_word_list[0]\n",
    "pos_answer = random.choice(range(4))\n",
    "print(pos_answer)\n",
    "    "
   ]
  },
  {
   "cell_type": "code",
   "execution_count": null,
   "metadata": {},
   "outputs": [
    {
     "name": "stdout",
     "output_type": "stream",
     "text": [
      "answer : 1\n",
      "wrong answer : 17\n",
      "wrong answer : 35\n",
      "wrong answer : 36\n",
      "inform의 뜻으로 맞는 것은 무엇일까요?\n",
      "1. 자원봉사, 지원자\n",
      "2. 알리다, 통지하다\n",
      "3. 이용 가능한, 쓸모있는\n",
      "4. 함유하다, 포함하다\n",
      "1\n",
      "틀렸습니다. 다시 시도해보세요\n",
      "\n",
      "\n",
      "inform의 뜻으로 맞는 것은 무엇일까요?\n",
      "1. 자원봉사, 지원자\n",
      "2. 알리다, 통지하다\n",
      "3. 이용 가능한, 쓸모있는\n",
      "4. 함유하다, 포함하다\n",
      "2\n",
      "정답입니다.\n",
      "answer : 0\n",
      "wrong answer : 2\n",
      "wrong answer : 20\n",
      "wrong answer : 34\n",
      "advise의 뜻으로 맞는 것은 무엇일까요?\n",
      "1. 충고하다\n",
      "2. 봉사, 공공 업무, 서비스\n",
      "3. 기회\n",
      "4. ~에게 깊은 인상을 주다\n"
     ]
    }
   ],
   "source": [
    "for i in range(len(en_word_list)):\n",
    "    en = en_word_list[i]\n",
    "    answer = ko_word_list[i]\n",
    "    pos_answer = random.choice(range(4))\n",
    "    numbers = list(range(len(en_word_list)))\n",
    "    random.shuffle(numbers)\n",
    "    random_num = numbers.pop()\n",
    "    \n",
    "    pos_wrong_answers = set()\n",
    "    while len(pos_wrong_answers) < 3:\n",
    "        pos_wrong = numbers.pop()\n",
    "        if pos_wrong != pos_answer:\n",
    "            pos_wrong_answers.add(pos_wrong)\n",
    "    \n",
    "    print(\"answer : {}\".format(pos_answer))\n",
    "    \n",
    "    for wrong in pos_wrong_answers:\n",
    "        print('wrong answer : {}'.format(wrong))\n",
    "        \n",
    "        \n",
    "    while(True):\n",
    "        print(\"{}의 뜻으로 맞는 것은 무엇일까요?\".format(en))\n",
    "        temp_wrongs = set(pos_wrong_answers)\n",
    "        for i in range(4):\n",
    "            if i == pos_answer:\n",
    "                print(\"{}. {}\".format(i + 1, answer))\n",
    "            else:\n",
    "                print(\"{}. {}\".format(i + 1, ko_word_list[temp_wrongs.pop()]))\n",
    "\n",
    "        user_answer = input()\n",
    "        if user_answer == str(pos_answer + 1):\n",
    "            print(\"정답입니다.\")\n",
    "            break\n",
    "        else:\n",
    "            print(\"틀렸습니다. 다시 시도해보세요\\n\\n\")\n"
   ]
  },
  {
   "cell_type": "code",
   "execution_count": 38,
   "metadata": {},
   "outputs": [
    {
     "name": "stdout",
     "output_type": "stream",
     "text": [
      "0\n",
      "1\n",
      "2\n",
      "3\n"
     ]
    }
   ],
   "source": [
    "for i in range(4):\n",
    "  print(i)"
   ]
  },
  {
   "cell_type": "code",
   "execution_count": null,
   "metadata": {},
   "outputs": [],
   "source": [
    "random.sample(set([1, 2, 3, 4, 5, 6]), 2)"
   ]
  }
 ],
 "metadata": {
  "kernelspec": {
   "display_name": "Python 3",
   "language": "python",
   "name": "python3"
  },
  "language_info": {
   "codemirror_mode": {
    "name": "ipython",
    "version": 3
   },
   "file_extension": ".py",
   "mimetype": "text/x-python",
   "name": "python",
   "nbconvert_exporter": "python",
   "pygments_lexer": "ipython3",
   "version": "3.6.5"
  }
 },
 "nbformat": 4,
 "nbformat_minor": 2
}
