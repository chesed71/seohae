{
 "cells": [
  {
   "cell_type": "code",
   "execution_count": 5,
   "metadata": {},
   "outputs": [],
   "source": [
    "import numpy as np\n",
    "import cv2\n",
    "\n",
    "# Load an color image in grayscale\n",
    "img = cv2.imread('../data/audi.jpeg',0)\n",
    "\n",
    "cv2.imshow('image',img)\n",
    "cv2.waitKey(0)\n",
    "cv2.destroyAllWindows()"
   ]
  },
  {
   "cell_type": "code",
   "execution_count": 2,
   "metadata": {},
   "outputs": [
    {
     "data": {
      "text/plain": [
       "['',\n",
       " '/Users/kyungsoohong/anaconda3/lib/python36.zip',\n",
       " '/Users/kyungsoohong/anaconda3/lib/python3.6',\n",
       " '/Users/kyungsoohong/anaconda3/lib/python3.6/lib-dynload',\n",
       " '/Users/kyungsoohong/.local/lib/python3.6/site-packages',\n",
       " '/Users/kyungsoohong/anaconda3/lib/python3.6/site-packages',\n",
       " '/Users/kyungsoohong/anaconda3/lib/python3.6/site-packages/aeosa',\n",
       " '/Users/kyungsoohong/anaconda3/lib/python3.6/site-packages/IPython/extensions',\n",
       " '/Users/kyungsoohong/.ipython']"
      ]
     },
     "execution_count": 2,
     "metadata": {},
     "output_type": "execute_result"
    }
   ],
   "source": [
    "import os\n",
    "os.sys.path"
   ]
  },
  {
   "cell_type": "code",
   "execution_count": 3,
   "metadata": {},
   "outputs": [],
   "source": [
    "os.sys.path.append('/Users/kyungsoohong/anaconda3/envs/ComputerVision/lib/python3.6/site-packages/')"
   ]
  },
  {
   "cell_type": "code",
   "execution_count": 4,
   "metadata": {},
   "outputs": [],
   "source": [
    "import cv2\n"
   ]
  },
  {
   "cell_type": "code",
   "execution_count": null,
   "metadata": {},
   "outputs": [],
   "source": []
  }
 ],
 "metadata": {
  "kernelspec": {
   "display_name": "Python 3",
   "language": "python",
   "name": "python3"
  },
  "language_info": {
   "codemirror_mode": {
    "name": "ipython",
    "version": 3
   },
   "file_extension": ".py",
   "mimetype": "text/x-python",
   "name": "python",
   "nbconvert_exporter": "python",
   "pygments_lexer": "ipython3",
   "version": "3.6.4"
  }
 },
 "nbformat": 4,
 "nbformat_minor": 2
}
