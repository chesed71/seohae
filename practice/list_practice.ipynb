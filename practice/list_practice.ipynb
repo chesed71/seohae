{
 "cells": [
  {
   "cell_type": "code",
   "execution_count": null,
   "metadata": {},
   "outputs": [],
   "source": [
    "numbers = [10,20,30,20,10,50,60,40,80,50,40]"
   ]
  },
  {
   "cell_type": "code",
   "execution_count": null,
   "metadata": {},
   "outputs": [],
   "source": [
    "# 중복 제거 "
   ]
  },
  {
   "cell_type": "code",
   "execution_count": null,
   "metadata": {},
   "outputs": [],
   "source": [
    "words = ['aa', 'abc', 'xyz', 'aba', '1221']"
   ]
  },
  {
   "cell_type": "code",
   "execution_count": null,
   "metadata": {},
   "outputs": [],
   "source": [
    "# 문자열 크기가 2보다 더 크고 첫번째와 마지막 글자가 같은 문자열의 갯수"
   ]
  },
  {
   "cell_type": "code",
   "execution_count": null,
   "metadata": {},
   "outputs": [],
   "source": [
    "students = [{'id': 1, 'mid': 80, 'name': 'Lary'}, \n",
    "            {'id': 2, 'mid': 78, 'name': 'Rabi'}, \n",
    "            {'id': 3, 'mid': 98, 'name': 'Ester'}, \n",
    "            {'id': 4, 'mid': 73, 'name': 'John'}, \n",
    "            {'id': 5, 'mid': 94, 'name': 'Berry'}, \n",
    "            {'id': 6, 'mid': 88, 'name': 'Bob'}, \n",
    "            {'id': 7, 'mid': 80, 'name': 'Alex'}, \n",
    "            {'id': 8, 'mid': 90, 'name': 'Andy'}, \n",
    "            {'id': 9, 'mid': 84, 'name': 'Beth'}, \n",
    "            {'id': 10, 'mid': 76, 'name': 'Cindy'}]\n"
   ]
  },
  {
   "cell_type": "code",
   "execution_count": null,
   "metadata": {},
   "outputs": [],
   "source": [
    "# mid 점수가 80 이상인 학생수"
   ]
  }
 ],
 "metadata": {
  "kernelspec": {
   "display_name": "Python 3",
   "language": "python",
   "name": "python3"
  },
  "language_info": {
   "codemirror_mode": {
    "name": "ipython",
    "version": 3
   },
   "file_extension": ".py",
   "mimetype": "text/x-python",
   "name": "python",
   "nbconvert_exporter": "python",
   "pygments_lexer": "ipython3",
   "version": "3.6.4"
  }
 },
 "nbformat": 4,
 "nbformat_minor": 2
}
