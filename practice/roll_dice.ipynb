{
 "cells": [
  {
   "cell_type": "code",
   "execution_count": 6,
   "metadata": {},
   "outputs": [],
   "source": [
    "import random\n",
    "\n",
    "def roll(sides = 6):\n",
    "    num_rolled = random.randint(1, sides)\n",
    "    return num_rolled"
   ]
  },
  {
   "cell_type": "code",
   "execution_count": null,
   "metadata": {},
   "outputs": [
    {
     "name": "stdout",
     "output_type": "stream",
     "text": [
      "주사위를 굴리세요 ENTER=굴리기. Q=종료.\n",
      "6가 나왔습니다\n",
      "주사위를 굴리세요 ENTER=굴리기. Q=종료.\n",
      "2가 나왔습니다\n",
      "주사위를 굴리세요 ENTER=굴리기. Q=종료.\n",
      "5가 나왔습니다\n"
     ]
    }
   ],
   "source": [
    "sides = 6\n",
    "rolling = True\n",
    "while rolling:\n",
    "    roll_again = input(\"주사위를 굴리세요 ENTER=굴리기. Q=종료.\")\n",
    "    if roll_again.lower() != \"q\":\n",
    "        num_rolled = roll(sides)\n",
    "        print(\"{}가 나왔습니다\".format(num_rolled))\n",
    "    else:\n",
    "        rolling = False\n",
    "print(\"감사합니다!\")"
   ]
  },
  {
   "cell_type": "code",
   "execution_count": null,
   "metadata": {},
   "outputs": [],
   "source": []
  }
 ],
 "metadata": {
  "kernelspec": {
   "display_name": "Python 3",
   "language": "python",
   "name": "python3"
  },
  "language_info": {
   "codemirror_mode": {
    "name": "ipython",
    "version": 3
   },
   "file_extension": ".py",
   "mimetype": "text/x-python",
   "name": "python",
   "nbconvert_exporter": "python",
   "pygments_lexer": "ipython3",
   "version": "3.6.5"
  }
 },
 "nbformat": 4,
 "nbformat_minor": 2
}
